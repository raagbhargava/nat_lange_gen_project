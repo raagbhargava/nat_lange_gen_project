{
 "cells": [
  {
   "cell_type": "code",
   "execution_count": 8,
   "id": "68f73545-15db-4ddc-a85c-4ffa89d4f7b2",
   "metadata": {},
   "outputs": [],
   "source": [
    "import random\n",
    "import re"
   ]
  },
  {
   "cell_type": "code",
   "execution_count": 27,
   "id": "6d315bf9-ce04-4dfb-baa5-d60daa243902",
   "metadata": {},
   "outputs": [],
   "source": [
    "# extracts all keywords except rhyming words\n",
    "def get_keywords(input_string):\n",
    "    # Extracts keywords from input string\n",
    "    all_words = re.findall(r\"'(.*?)'\", input_string)\n",
    "    \n",
    "    # removes every third word as it is a rhyme word\n",
    "    words = [word for i, word in enumerate(all_words, start=1) if i % 3 != 0]\n",
    "    \n",
    "    return words\n",
    "    \n",
    "# picks random keyword from list\n",
    "def pick_random_word(input_string):\n",
    "    words = get_keywords(input_string)\n",
    "    if words:\n",
    "        return random.choice(words)\n",
    "    else:\n",
    "        return None"
   ]
  },
  {
   "cell_type": "code",
   "execution_count": 30,
   "id": "86b1e254-e29e-4209-b2d7-9ffd18ceb58c",
   "metadata": {},
   "outputs": [],
   "source": [
    "input = '''Keywords 1: ['solitary', 'nature', 'thought'] . Keywords 2: ['time', 'mind', 'spent'] . Keywords 3: ['day', 'happened', 'overwrought'] . Keywords 4: ['morning', 'sunrise', 'ascent'] . Keywords 5: ['tree', 'couple', 'hours'] . Keywords 6: ['trees', 'stopped', 'looked'] . Keywords 7: ['breeze', 'felt', 'ours'] . Keywords 8: ['forest', 'louder', 'booked'] . Keywords 9: ['woods', 'foggy', 'shadows'] . Keywords 10: ['closer', 'started', 'feel'] . Keywords 11: ['screaming', 'heard', 'lachrymose'] . Keywords 12: ['sound', 'not', 'keel'] .Keywords 13: ['head', 'began', 'move'] . Keywords 14: ['ground', 'slowly', 'approve']  </s>'''"
   ]
  },
  {
   "cell_type": "code",
   "execution_count": 33,
   "id": "1d6da8fb-6ef2-4425-a09e-53224118b60a",
   "metadata": {},
   "outputs": [
    {
     "name": "stdout",
     "output_type": "stream",
     "text": [
      "forest\n"
     ]
    }
   ],
   "source": [
    "word = pick_random_word(input)\n",
    "print(word)"
   ]
  }
 ],
 "metadata": {
  "kernelspec": {
   "display_name": "Python 3",
   "language": "python",
   "name": "python3"
  },
  "language_info": {
   "codemirror_mode": {
    "name": "ipython",
    "version": 3
   },
   "file_extension": ".py",
   "mimetype": "text/x-python",
   "name": "python",
   "nbconvert_exporter": "python",
   "pygments_lexer": "ipython3",
   "version": "3.10.12"
  }
 },
 "nbformat": 4,
 "nbformat_minor": 5
}
