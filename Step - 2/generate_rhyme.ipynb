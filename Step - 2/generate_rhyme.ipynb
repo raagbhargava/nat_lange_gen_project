{
 "cells": [
  {
   "cell_type": "code",
   "execution_count": 1,
   "id": "aeb3b549-3dbf-4ff6-a530-cdef52b3968c",
   "metadata": {},
   "outputs": [],
   "source": [
    "#########\n",
    "# START: COPIED FROM <https://github.com/PlusLabNLP/Sonnet-Gen>\n",
    "# This code was HEAVILY REFACTORED. I used the general template as the repository above, but my algorithm varies from the author's. \n",
    "# I have highlighted the deviation in the code.\n",
    "##########"
   ]
  },
  {
   "cell_type": "code",
   "execution_count": null,
   "id": "c3678960",
   "metadata": {},
   "outputs": [],
   "source": [
    "import nltk\n",
    "nltk.download('words')\n",
    "from nltk.corpus import words\n",
    "import pronouncing\n",
    "import random"
   ]
  },
  {
   "cell_type": "code",
   "execution_count": 127,
   "id": "bc2a057c",
   "metadata": {},
   "outputs": [],
   "source": [
    "# Uses pronouncing library to generate candidate keywords. FROM GITHUB REPO.\n",
    "def get_rhyme_candidates(word, N):\n",
    "    temp = pronouncing.rhymes(word)\n",
    "    if len(temp) <= N:\n",
    "        return temp\n",
    "    else:\n",
    "        return random.sample(temp,N)"
   ]
  },
  {
   "cell_type": "code",
   "execution_count": 128,
   "id": "99891b08",
   "metadata": {},
   "outputs": [],
   "source": [
    "#zero index\n",
    "initial_rhyming_lines = [0,1,4,5,8,9,12]\n",
    "countin_rhyming_lines = [2,3,6,7,10,11,13]"
   ]
  },
  {
   "cell_type": "code",
   "execution_count": 170,
   "id": "b9c2f70a-8e77-45e5-89c0-c3d3a95c83ae",
   "metadata": {},
   "outputs": [],
   "source": [
    "# input\n",
    "example_keywords = '''Keywords 1: ['susie', 'nature', 'wanted']. Keywords 2: ['day', 'decided', 'visit']. Keywords 3: ['woods', 'spent', 'weekend']. Keywords 4: ['wilderness', 'found', 'beautiful']. Keywords 5: ['time', 'enjoyed', 'walking']. Keywords 6: ['finally', 'home', 'arrived']. Keywords 7: ['food', 'sat', 'dinner']. Keywords 8: ['sleep', 'played', 'games']. Keywords 9: ['sunrise', 'felt', 'relaxed']. Keywords 10: ['morning', 'glad', 'left']. Keywords 11: ['work', 'returned', 'home']. Keywords 12: ['lunch', 'bored', 'hungry']. Keywords 13: ['back', 'walked', 'house']. Keywords 14: ['happy', 'realized', 'longer'] </s>'''"
   ]
  },
  {
   "cell_type": "code",
   "execution_count": null,
   "id": "a4930e4f",
   "metadata": {},
   "outputs": [],
   "source": [
    "# Filters words from list that are not words in the english dictionary using nltk corpus. OWN CODE\n",
    "def filter_english_words(string_list):\n",
    "    english_set = set(words.words())\n",
    "    return [word for word in string_list if word.lower() in english_set]"
   ]
  },
  {
   "cell_type": "code",
   "execution_count": 173,
   "id": "86d4052e",
   "metadata": {},
   "outputs": [
    {
     "name": "stderr",
     "output_type": "stream",
     "text": [
      "[nltk_data] Downloading package words to\n",
      "[nltk_data]     /home/raagbhargava/nltk_data...\n",
      "[nltk_data]   Package words is already up-to-date!\n"
     ]
    },
    {
     "name": "stdout",
     "output_type": "stream",
     "text": [
      "wanted weekend ['undaunted', 'unwanted', 'vaunted']\n",
      "visit beautiful ['revisit']\n",
      "walking dinner ['hawking', 'squawking', 'stalking', 'talking']\n",
      "arrived games ['derived', 'lived']\n",
      "relaxed home ['axed', 'taxed', 'untaxed']\n",
      "left hungry ['antitheft', 'antitheft', 'bereft', 'cleft', 'deft', 'heft', 'theft']\n",
      "house longer ['blouse', 'boathouse', 'bouse', 'chaus', 'crouse', 'douse', 'dowse', 'espouse', 'gauss', 'grouse', 'hause', 'louse', 'mouse', 'rouse', 'smouse', 'spouse', 'youse']\n"
     ]
    }
   ],
   "source": [
    "# Get candidate rhyme words, filter words not in english dictionary, and return first rhyme word in list. HEAVILY REFACTORED. \n",
    "# DIFFERENT APPROACH COMPARED TO GITHUB, AS THEIR CODE DID NOT WORK\n",
    "for i in range(7):\n",
    "    # indices for keywords are 1,3,5. \n",
    "    word = example_keywords.split(' Keywords')[initial_rhyming_lines[i]].split(\"'\")[5]\n",
    "    candidates = get_rhyme_candidates(word, N=50)\n",
    "    \n",
    "    replace_word = example_keywords.split(' Keywords')[countin_rhyming_lines[i]].split(\"'\")[5]\n",
    "\n",
    "    t = filter_english_words(candidates)[0]\n",
    "   \n",
    "    example_keywords = example_keywords.replace(replace_word,t)"
   ]
  },
  {
   "cell_type": "code",
   "execution_count": 174,
   "id": "a6d77e55",
   "metadata": {},
   "outputs": [
    {
     "name": "stdout",
     "output_type": "stream",
     "text": [
      "Generated rhyme words; \n",
      "Keywords 1: ['susie', 'nature', 'wanted']. Keywords 2: ['day', 'decided', 'visit']. Keywords 3: ['woods', 'spent', 'undaunted']. Keywords 4: ['wilderness', 'found', 'revisit']. Keywords 5: ['time', 'enjoyed', 'walking']. Keywords 6: ['finally', 'axed', 'arrived']. Keywords 7: ['food', 'sat', 'hawking']. Keywords 8: ['sleep', 'played', 'derived']. Keywords 9: ['sunrise', 'felt', 'relaxed']. Keywords 10: ['morning', 'glad', 'left']. Keywords 11: ['work', 'returned', 'axed']. Keywords 12: ['lunch', 'bored', 'antitheft']. Keywords 13: ['back', 'walked', 'house']. Keywords 14: ['happy', 'realized', 'blouse'] </s>\n"
     ]
    }
   ],
   "source": [
    "print('Generated rhyme words; ', example_keywords, sep = '\\n')"
   ]
  },
  {
   "cell_type": "code",
   "execution_count": null,
   "id": "a18899e2",
   "metadata": {},
   "outputs": [],
   "source": [
    "#########\n",
    "# END: COPIED FROM <https://github.com/PlusLabNLP/Sonnet-Gen>\n",
    "# This code was HEAVILY REFACTORED. I used the general template as the repository above, but my algorithm varies from the author. \n",
    "# I have highlighted the deviation in the code.\n",
    "##########"
   ]
  }
 ],
 "metadata": {
  "kernelspec": {
   "display_name": "Python 3",
   "language": "python",
   "name": "python3"
  },
  "language_info": {
   "codemirror_mode": {
    "name": "ipython",
    "version": 3
   },
   "file_extension": ".py",
   "mimetype": "text/x-python",
   "name": "python",
   "nbconvert_exporter": "python",
   "pygments_lexer": "ipython3",
   "version": "3.10.6"
  }
 },
 "nbformat": 4,
 "nbformat_minor": 5
}
