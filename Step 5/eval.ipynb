{
 "cells": [
  {
   "cell_type": "code",
   "execution_count": 36,
   "id": "17076217-00a7-42c6-adfb-536d6d79d28e",
   "metadata": {},
   "outputs": [],
   "source": [
    "input_str = 'with nature cold and solitary thought,go through the mind that little time is spent,do as nothing happened day overwrought,and even sunrise morning my ascent,seen that tree survive the couple hours,with stopped like any other trees are looked,felt is very little breeze as ours,that forest like a book and louder booked,wondered why the woods are foggy shadows,with larger creatures started closer feel,and know that screaming heard is lachrymose,are not as any other sound the keel,however head began with little move,that always did is slowly ground approve,'"
   ]
  },
  {
   "cell_type": "code",
   "execution_count": 37,
   "id": "5242e2e3-6294-47cc-babd-f20d67c417ea",
   "metadata": {},
   "outputs": [],
   "source": [
    "\n",
    "# Create a list of words from the input string\n",
    "word_list = input_str.split()\n",
    "\n",
    "# Remove punctuation from the words (optional)\n",
    "word_list = [word.strip(\",.\") for word in word_list]\n"
   ]
  },
  {
   "cell_type": "code",
   "execution_count": 38,
   "id": "8780ea7d-6010-4924-9870-2673aa035ef0",
   "metadata": {},
   "outputs": [],
   "source": [
    "diversity = len(set(word_list)) / len(word_list)"
   ]
  },
  {
   "cell_type": "code",
   "execution_count": 39,
   "id": "52975f1e-892e-4205-a355-726e44a45168",
   "metadata": {},
   "outputs": [
    {
     "name": "stdout",
     "output_type": "stream",
     "text": [
      "0.788235294117647\n"
     ]
    }
   ],
   "source": [
    "print(diversity)"
   ]
  },
  {
   "cell_type": "code",
   "execution_count": null,
   "id": "5acd717b-88cc-49fc-a139-c55f888b45f2",
   "metadata": {},
   "outputs": [],
   "source": []
  }
 ],
 "metadata": {
  "kernelspec": {
   "display_name": "Python 3",
   "language": "python",
   "name": "python3"
  },
  "language_info": {
   "codemirror_mode": {
    "name": "ipython",
    "version": 3
   },
   "file_extension": ".py",
   "mimetype": "text/x-python",
   "name": "python",
   "nbconvert_exporter": "python",
   "pygments_lexer": "ipython3",
   "version": "3.10.12"
  }
 },
 "nbformat": 4,
 "nbformat_minor": 5
}
